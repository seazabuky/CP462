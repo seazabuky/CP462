{
  "cells": [
    {
      "cell_type": "markdown",
      "metadata": {
        "id": "ClINfGfbYgxR"
      },
      "source": [
        "# EDA Activity: Net Pracharat Usage in Province ช."
      ]
    },
    {
      "cell_type": "code",
      "execution_count": 39,
      "metadata": {
        "id": "_WP_Wy9-YZZe"
      },
      "outputs": [
        {
          "name": "stdout",
          "output_type": "stream",
          "text": [
            "Python 3.11.1\n"
          ]
        },
        {
          "data": {
            "text/plain": [
              "'1.24.1'"
            ]
          },
          "execution_count": 39,
          "metadata": {},
          "output_type": "execute_result"
        }
      ],
      "source": [
        "import numpy as np\n",
        "import matplotlib.pyplot as plt\n",
        "import pandas as pd\n",
        "import seaborn as sns\n",
        "!python --version\n",
        "np.version.version"
      ]
    },
    {
      "cell_type": "markdown",
      "metadata": {
        "id": "lPI9hkEHZA5m"
      },
      "source": [
        "As data contains Thai characters, we need to load Thai fonts for matplotlib."
      ]
    },
    {
      "cell_type": "code",
      "execution_count": 50,
      "metadata": {
        "id": "CHxIblIQY6s9"
      },
      "outputs": [],
      "source": [
        "import matplotlib as mpl\n",
        "\n",
        "mpl.font_manager.fontManager.addfont('THSarabunChula-Regular.ttf')\n",
        "mpl.rc('font',family='TH Sarabun Chula')"
      ]
    },
    {
      "cell_type": "markdown",
      "metadata": {
        "id": "PZwYqZPda7KC"
      },
      "source": [
        "Let's ingest our data file and take a look."
      ]
    },
    {
      "cell_type": "code",
      "execution_count": 41,
      "metadata": {
        "id": "gaO76f91Y_5w"
      },
      "outputs": [
        {
          "data": {
            "text/html": [
              "<div>\n",
              "<style scoped>\n",
              "    .dataframe tbody tr th:only-of-type {\n",
              "        vertical-align: middle;\n",
              "    }\n",
              "\n",
              "    .dataframe tbody tr th {\n",
              "        vertical-align: top;\n",
              "    }\n",
              "\n",
              "    .dataframe thead th {\n",
              "        text-align: right;\n",
              "    }\n",
              "</style>\n",
              "<table border=\"1\" class=\"dataframe\">\n",
              "  <thead>\n",
              "    <tr style=\"text-align: right;\">\n",
              "      <th></th>\n",
              "      <th>YEAR</th>\n",
              "      <th>MONTH</th>\n",
              "      <th>CIRCUIT_NO</th>\n",
              "      <th>APP_CODE</th>\n",
              "      <th>REGION</th>\n",
              "      <th>VILLAGE</th>\n",
              "      <th>SUBDISTRICT</th>\n",
              "      <th>DISTRICT</th>\n",
              "      <th>PROVINCE</th>\n",
              "      <th>AP_NAME</th>\n",
              "      <th>IP_ADDRESS</th>\n",
              "      <th>UPLOAD</th>\n",
              "      <th>DOWNLOAD</th>\n",
              "      <th>NUM_USERS</th>\n",
              "      <th>NUM_DEVICES</th>\n",
              "    </tr>\n",
              "    <tr>\n",
              "      <th>ID</th>\n",
              "      <th></th>\n",
              "      <th></th>\n",
              "      <th></th>\n",
              "      <th></th>\n",
              "      <th></th>\n",
              "      <th></th>\n",
              "      <th></th>\n",
              "      <th></th>\n",
              "      <th></th>\n",
              "      <th></th>\n",
              "      <th></th>\n",
              "      <th></th>\n",
              "      <th></th>\n",
              "      <th></th>\n",
              "      <th></th>\n",
              "    </tr>\n",
              "  </thead>\n",
              "  <tbody>\n",
              "    <tr>\n",
              "      <th>1</th>\n",
              "      <td>2564</td>\n",
              "      <td>กรกฎาคม</td>\n",
              "      <td>4485d9000</td>\n",
              "      <td>SR711371</td>\n",
              "      <td>ภ.2</td>\n",
              "      <td>หมู่ 13 บ้านมะเกลือ</td>\n",
              "      <td>บ้านกอก</td>\n",
              "      <td>จัตุรัส</td>\n",
              "      <td>ชัยภูมิ</td>\n",
              "      <td>CPM-SR711371</td>\n",
              "      <td>172.16.140.2</td>\n",
              "      <td>4,901.45</td>\n",
              "      <td>86,793.12</td>\n",
              "      <td>403</td>\n",
              "      <td>57.0</td>\n",
              "    </tr>\n",
              "    <tr>\n",
              "      <th>2</th>\n",
              "      <td>2564</td>\n",
              "      <td>กรกฎาคม</td>\n",
              "      <td>4485d9001</td>\n",
              "      <td>SR711374</td>\n",
              "      <td>ภ.2</td>\n",
              "      <td>หมู่ 17 บ้านโนนทอง</td>\n",
              "      <td>บ้านกอก</td>\n",
              "      <td>จัตุรัส</td>\n",
              "      <td>ชัยภูมิ</td>\n",
              "      <td>CPM-SR711374</td>\n",
              "      <td>172.16.140.10</td>\n",
              "      <td>1,609.27</td>\n",
              "      <td>18,763.15</td>\n",
              "      <td>364</td>\n",
              "      <td>69.0</td>\n",
              "    </tr>\n",
              "    <tr>\n",
              "      <th>3</th>\n",
              "      <td>2564</td>\n",
              "      <td>กรกฎาคม</td>\n",
              "      <td>4486d9000</td>\n",
              "      <td>SR711628</td>\n",
              "      <td>ภ.2</td>\n",
              "      <td>หมู่ 1 เพชร</td>\n",
              "      <td>บ้านเพชร</td>\n",
              "      <td>ภูเขียว</td>\n",
              "      <td>ชัยภูมิ</td>\n",
              "      <td>CPM-SR711628</td>\n",
              "      <td>172.16.140.50</td>\n",
              "      <td>6,318.99</td>\n",
              "      <td>91,007.66</td>\n",
              "      <td>693</td>\n",
              "      <td>182.0</td>\n",
              "    </tr>\n",
              "    <tr>\n",
              "      <th>4</th>\n",
              "      <td>2564</td>\n",
              "      <td>กรกฎาคม</td>\n",
              "      <td>4486d9001</td>\n",
              "      <td>SR711630</td>\n",
              "      <td>ภ.2</td>\n",
              "      <td>หมู่ 8 เพชรใต้</td>\n",
              "      <td>บ้านเพชร</td>\n",
              "      <td>ภูเขียว</td>\n",
              "      <td>ชัยภูมิ</td>\n",
              "      <td>CPM-SR711630</td>\n",
              "      <td>172.16.140.58</td>\n",
              "      <td>2,753.82</td>\n",
              "      <td>71,735.24</td>\n",
              "      <td>855</td>\n",
              "      <td>260.0</td>\n",
              "    </tr>\n",
              "    <tr>\n",
              "      <th>5</th>\n",
              "      <td>2564</td>\n",
              "      <td>กรกฎาคม</td>\n",
              "      <td>4486d9002</td>\n",
              "      <td>SR711631</td>\n",
              "      <td>ภ.2</td>\n",
              "      <td>หมู่ 9 กุดตูม</td>\n",
              "      <td>บ้านเพชร</td>\n",
              "      <td>ภูเขียว</td>\n",
              "      <td>ชัยภูมิ</td>\n",
              "      <td>CPM-SR711631</td>\n",
              "      <td>172.16.140.66</td>\n",
              "      <td>13,661.13</td>\n",
              "      <td>259,679.82</td>\n",
              "      <td>835</td>\n",
              "      <td>54.0</td>\n",
              "    </tr>\n",
              "  </tbody>\n",
              "</table>\n",
              "</div>"
            ],
            "text/plain": [
              "    YEAR    MONTH CIRCUIT_NO  APP_CODE REGION              VILLAGE  \\\n",
              "ID                                                                   \n",
              "1   2564  กรกฎาคม  4485d9000  SR711371    ภ.2  หมู่ 13 บ้านมะเกลือ   \n",
              "2   2564  กรกฎาคม  4485d9001  SR711374    ภ.2   หมู่ 17 บ้านโนนทอง   \n",
              "3   2564  กรกฎาคม  4486d9000  SR711628    ภ.2          หมู่ 1 เพชร   \n",
              "4   2564  กรกฎาคม  4486d9001  SR711630    ภ.2       หมู่ 8 เพชรใต้   \n",
              "5   2564  กรกฎาคม  4486d9002  SR711631    ภ.2        หมู่ 9 กุดตูม   \n",
              "\n",
              "   SUBDISTRICT DISTRICT PROVINCE       AP_NAME     IP_ADDRESS     UPLOAD  \\\n",
              "ID                                                                         \n",
              "1      บ้านกอก  จัตุรัส  ชัยภูมิ  CPM-SR711371   172.16.140.2   4,901.45   \n",
              "2      บ้านกอก  จัตุรัส  ชัยภูมิ  CPM-SR711374  172.16.140.10   1,609.27   \n",
              "3     บ้านเพชร  ภูเขียว  ชัยภูมิ  CPM-SR711628  172.16.140.50   6,318.99   \n",
              "4     บ้านเพชร  ภูเขียว  ชัยภูมิ  CPM-SR711630  172.16.140.58   2,753.82   \n",
              "5     บ้านเพชร  ภูเขียว  ชัยภูมิ  CPM-SR711631  172.16.140.66  13,661.13   \n",
              "\n",
              "      DOWNLOAD NUM_USERS  NUM_DEVICES  \n",
              "ID                                     \n",
              "1    86,793.12       403         57.0  \n",
              "2    18,763.15       364         69.0  \n",
              "3    91,007.66       693        182.0  \n",
              "4    71,735.24       855        260.0  \n",
              "5   259,679.82       835         54.0  "
            ]
          },
          "execution_count": 41,
          "metadata": {},
          "output_type": "execute_result"
        }
      ],
      "source": [
        "df = pd.read_csv('internetpracharat2.csv', index_col='ID')\n",
        "df.head()"
      ]
    },
    {
      "cell_type": "code",
      "execution_count": 42,
      "metadata": {
        "id": "EOiRc1UsZj4l"
      },
      "outputs": [
        {
          "data": {
            "text/html": [
              "<div>\n",
              "<style scoped>\n",
              "    .dataframe tbody tr th:only-of-type {\n",
              "        vertical-align: middle;\n",
              "    }\n",
              "\n",
              "    .dataframe tbody tr th {\n",
              "        vertical-align: top;\n",
              "    }\n",
              "\n",
              "    .dataframe thead th {\n",
              "        text-align: right;\n",
              "    }\n",
              "</style>\n",
              "<table border=\"1\" class=\"dataframe\">\n",
              "  <thead>\n",
              "    <tr style=\"text-align: right;\">\n",
              "      <th></th>\n",
              "      <th>YEAR</th>\n",
              "      <th>MONTH</th>\n",
              "      <th>CIRCUIT_NO</th>\n",
              "      <th>APP_CODE</th>\n",
              "      <th>REGION</th>\n",
              "      <th>VILLAGE</th>\n",
              "      <th>SUBDISTRICT</th>\n",
              "      <th>DISTRICT</th>\n",
              "      <th>PROVINCE</th>\n",
              "      <th>AP_NAME</th>\n",
              "      <th>IP_ADDRESS</th>\n",
              "      <th>UPLOAD</th>\n",
              "      <th>DOWNLOAD</th>\n",
              "      <th>NUM_USERS</th>\n",
              "      <th>NUM_DEVICES</th>\n",
              "    </tr>\n",
              "    <tr>\n",
              "      <th>ID</th>\n",
              "      <th></th>\n",
              "      <th></th>\n",
              "      <th></th>\n",
              "      <th></th>\n",
              "      <th></th>\n",
              "      <th></th>\n",
              "      <th></th>\n",
              "      <th></th>\n",
              "      <th></th>\n",
              "      <th></th>\n",
              "      <th></th>\n",
              "      <th></th>\n",
              "      <th></th>\n",
              "      <th></th>\n",
              "      <th></th>\n",
              "    </tr>\n",
              "  </thead>\n",
              "  <tbody>\n",
              "    <tr>\n",
              "      <th>1187</th>\n",
              "      <td>2564</td>\n",
              "      <td>กรกฎาคม</td>\n",
              "      <td>5343d9024</td>\n",
              "      <td>SR712885</td>\n",
              "      <td>ภ.3</td>\n",
              "      <td>หมู่ 10 เมืองหนอง</td>\n",
              "      <td>แม่สาว</td>\n",
              "      <td>แม่อาย</td>\n",
              "      <td>เชียงใหม่</td>\n",
              "      <td>CMI-SR712885</td>\n",
              "      <td>172.18.38.50</td>\n",
              "      <td>9,793.36</td>\n",
              "      <td>156,548.58</td>\n",
              "      <td>982</td>\n",
              "      <td>87.0</td>\n",
              "    </tr>\n",
              "    <tr>\n",
              "      <th>1188</th>\n",
              "      <td>2564</td>\n",
              "      <td>กรกฎาคม</td>\n",
              "      <td>5343d9038</td>\n",
              "      <td>SR768854</td>\n",
              "      <td>ภ.3</td>\n",
              "      <td>หมู่ 15 โป่งไฮ</td>\n",
              "      <td>แม่สาว</td>\n",
              "      <td>แม่อาย</td>\n",
              "      <td>เชียงใหม่</td>\n",
              "      <td>CMI-SR768854</td>\n",
              "      <td>172.18.38.106</td>\n",
              "      <td>31,328.40</td>\n",
              "      <td>572,314.84</td>\n",
              "      <td>1,542</td>\n",
              "      <td>235.0</td>\n",
              "    </tr>\n",
              "    <tr>\n",
              "      <th>1189</th>\n",
              "      <td>2564</td>\n",
              "      <td>กรกฎาคม</td>\n",
              "      <td>5343d9035</td>\n",
              "      <td>SR767884</td>\n",
              "      <td>ภ.3</td>\n",
              "      <td>หมู่ 3 ดอยชัยเหนือ</td>\n",
              "      <td>แม่อาย</td>\n",
              "      <td>แม่อาย</td>\n",
              "      <td>เชียงใหม่</td>\n",
              "      <td>CMI-SR767884</td>\n",
              "      <td>172.18.38.98</td>\n",
              "      <td>6,617.29</td>\n",
              "      <td>161,646.30</td>\n",
              "      <td>537</td>\n",
              "      <td>63.0</td>\n",
              "    </tr>\n",
              "    <tr>\n",
              "      <th>1190</th>\n",
              "      <td>2564</td>\n",
              "      <td>กรกฎาคม</td>\n",
              "      <td>5343d9015</td>\n",
              "      <td>SR705362</td>\n",
              "      <td>ภ.3</td>\n",
              "      <td>หมู่ 9 ปางต้นเดื่อ</td>\n",
              "      <td>แม่อาย</td>\n",
              "      <td>แม่อาย</td>\n",
              "      <td>เชียงใหม่</td>\n",
              "      <td>CMI-SR705362</td>\n",
              "      <td>172.18.37.234</td>\n",
              "      <td>18,093.46</td>\n",
              "      <td>329,186.49</td>\n",
              "      <td>1,816</td>\n",
              "      <td>129.0</td>\n",
              "    </tr>\n",
              "    <tr>\n",
              "      <th>1191</th>\n",
              "      <td>2564</td>\n",
              "      <td>กรกฎาคม</td>\n",
              "      <td>5343d9016</td>\n",
              "      <td>SR705364</td>\n",
              "      <td>ภ.3</td>\n",
              "      <td>หมู่ 13 ดอยแหลม</td>\n",
              "      <td>แม่อาย</td>\n",
              "      <td>แม่อาย</td>\n",
              "      <td>เชียงใหม่</td>\n",
              "      <td>CMI-SR705364</td>\n",
              "      <td>172.18.37.242</td>\n",
              "      <td>67,993.63</td>\n",
              "      <td>1,045,299.83</td>\n",
              "      <td>4,715</td>\n",
              "      <td>194.0</td>\n",
              "    </tr>\n",
              "  </tbody>\n",
              "</table>\n",
              "</div>"
            ],
            "text/plain": [
              "      YEAR    MONTH CIRCUIT_NO  APP_CODE REGION             VILLAGE  \\\n",
              "ID                                                                    \n",
              "1187  2564  กรกฎาคม  5343d9024  SR712885    ภ.3   หมู่ 10 เมืองหนอง   \n",
              "1188  2564  กรกฎาคม  5343d9038  SR768854    ภ.3      หมู่ 15 โป่งไฮ   \n",
              "1189  2564  กรกฎาคม  5343d9035  SR767884    ภ.3  หมู่ 3 ดอยชัยเหนือ   \n",
              "1190  2564  กรกฎาคม  5343d9015  SR705362    ภ.3  หมู่ 9 ปางต้นเดื่อ   \n",
              "1191  2564  กรกฎาคม  5343d9016  SR705364    ภ.3     หมู่ 13 ดอยแหลม   \n",
              "\n",
              "     SUBDISTRICT DISTRICT   PROVINCE       AP_NAME     IP_ADDRESS     UPLOAD  \\\n",
              "ID                                                                             \n",
              "1187      แม่สาว   แม่อาย  เชียงใหม่  CMI-SR712885   172.18.38.50   9,793.36   \n",
              "1188      แม่สาว   แม่อาย  เชียงใหม่  CMI-SR768854  172.18.38.106  31,328.40   \n",
              "1189      แม่อาย   แม่อาย  เชียงใหม่  CMI-SR767884   172.18.38.98   6,617.29   \n",
              "1190      แม่อาย   แม่อาย  เชียงใหม่  CMI-SR705362  172.18.37.234  18,093.46   \n",
              "1191      แม่อาย   แม่อาย  เชียงใหม่  CMI-SR705364  172.18.37.242  67,993.63   \n",
              "\n",
              "          DOWNLOAD NUM_USERS  NUM_DEVICES  \n",
              "ID                                         \n",
              "1187    156,548.58       982         87.0  \n",
              "1188    572,314.84     1,542        235.0  \n",
              "1189    161,646.30       537         63.0  \n",
              "1190    329,186.49     1,816        129.0  \n",
              "1191  1,045,299.83     4,715        194.0  "
            ]
          },
          "execution_count": 42,
          "metadata": {},
          "output_type": "execute_result"
        }
      ],
      "source": [
        "df.tail()"
      ]
    },
    {
      "cell_type": "code",
      "execution_count": 43,
      "metadata": {
        "id": "17fUywMLZh6X"
      },
      "outputs": [
        {
          "data": {
            "text/plain": [
              "(1191, 15)"
            ]
          },
          "execution_count": 43,
          "metadata": {},
          "output_type": "execute_result"
        }
      ],
      "source": [
        "df.shape"
      ]
    },
    {
      "cell_type": "code",
      "execution_count": 44,
      "metadata": {
        "id": "TObDkRv5ZnhO"
      },
      "outputs": [
        {
          "name": "stdout",
          "output_type": "stream",
          "text": [
            "<class 'pandas.core.frame.DataFrame'>\n",
            "Int64Index: 1191 entries, 1 to 1191\n",
            "Data columns (total 15 columns):\n",
            " #   Column       Non-Null Count  Dtype  \n",
            "---  ------       --------------  -----  \n",
            " 0   YEAR         1191 non-null   int64  \n",
            " 1   MONTH        1191 non-null   object \n",
            " 2   CIRCUIT_NO   1191 non-null   object \n",
            " 3   APP_CODE     1191 non-null   object \n",
            " 4   REGION       1191 non-null   object \n",
            " 5   VILLAGE      1191 non-null   object \n",
            " 6   SUBDISTRICT  1191 non-null   object \n",
            " 7   DISTRICT     1183 non-null   object \n",
            " 8   PROVINCE     1191 non-null   object \n",
            " 9   AP_NAME      1191 non-null   object \n",
            " 10  IP_ADDRESS   1191 non-null   object \n",
            " 11  UPLOAD       1188 non-null   object \n",
            " 12  DOWNLOAD     1187 non-null   object \n",
            " 13  NUM_USERS    1187 non-null   object \n",
            " 14  NUM_DEVICES  1187 non-null   float64\n",
            "dtypes: float64(1), int64(1), object(13)\n",
            "memory usage: 148.9+ KB\n"
          ]
        }
      ],
      "source": [
        "df.info()"
      ]
    },
    {
      "cell_type": "markdown",
      "metadata": {
        "id": "kYdJ43Ixa0VU"
      },
      "source": [
        "We need to convert data types of numeric columns first."
      ]
    },
    {
      "cell_type": "code",
      "execution_count": 45,
      "metadata": {
        "id": "vK2wQEpJZo2l"
      },
      "outputs": [],
      "source": [
        "df['UPLOAD']=df['UPLOAD'].str.replace(',','')\n",
        "df['UPLOAD']=df['UPLOAD'].astype('float')\n",
        "df['DOWNLOAD']=df['DOWNLOAD'].str.replace(',','')\n",
        "df['DOWNLOAD']=df['DOWNLOAD'].astype('float')\n",
        "df['NUM_USERS']=df['NUM_USERS'].str.replace(',','')\n",
        "df['NUM_USERS']=pd.to_numeric(df['NUM_USERS'], errors='coerce')\n",
        "df['NUM_DEVICES']=pd.to_numeric(df['NUM_DEVICES'], errors='coerce')"
      ]
    },
    {
      "cell_type": "code",
      "execution_count": 46,
      "metadata": {
        "id": "hAljKrbhZ3Hk"
      },
      "outputs": [
        {
          "name": "stdout",
          "output_type": "stream",
          "text": [
            "<class 'pandas.core.frame.DataFrame'>\n",
            "Int64Index: 1191 entries, 1 to 1191\n",
            "Data columns (total 15 columns):\n",
            " #   Column       Non-Null Count  Dtype  \n",
            "---  ------       --------------  -----  \n",
            " 0   YEAR         1191 non-null   int64  \n",
            " 1   MONTH        1191 non-null   object \n",
            " 2   CIRCUIT_NO   1191 non-null   object \n",
            " 3   APP_CODE     1191 non-null   object \n",
            " 4   REGION       1191 non-null   object \n",
            " 5   VILLAGE      1191 non-null   object \n",
            " 6   SUBDISTRICT  1191 non-null   object \n",
            " 7   DISTRICT     1183 non-null   object \n",
            " 8   PROVINCE     1191 non-null   object \n",
            " 9   AP_NAME      1191 non-null   object \n",
            " 10  IP_ADDRESS   1191 non-null   object \n",
            " 11  UPLOAD       1188 non-null   float64\n",
            " 12  DOWNLOAD     1187 non-null   float64\n",
            " 13  NUM_USERS    1187 non-null   float64\n",
            " 14  NUM_DEVICES  1187 non-null   float64\n",
            "dtypes: float64(4), int64(1), object(10)\n",
            "memory usage: 148.9+ KB\n"
          ]
        }
      ],
      "source": [
        "df.info()"
      ]
    },
    {
      "cell_type": "markdown",
      "metadata": {
        "id": "aRBTL2Aya_wE"
      },
      "source": [
        "Now, numeric columns are numeric."
      ]
    },
    {
      "cell_type": "code",
      "execution_count": 47,
      "metadata": {
        "id": "74zp7dibZ33H"
      },
      "outputs": [
        {
          "data": {
            "text/html": [
              "<div>\n",
              "<style scoped>\n",
              "    .dataframe tbody tr th:only-of-type {\n",
              "        vertical-align: middle;\n",
              "    }\n",
              "\n",
              "    .dataframe tbody tr th {\n",
              "        vertical-align: top;\n",
              "    }\n",
              "\n",
              "    .dataframe thead th {\n",
              "        text-align: right;\n",
              "    }\n",
              "</style>\n",
              "<table border=\"1\" class=\"dataframe\">\n",
              "  <thead>\n",
              "    <tr style=\"text-align: right;\">\n",
              "      <th></th>\n",
              "      <th>YEAR</th>\n",
              "      <th>MONTH</th>\n",
              "      <th>CIRCUIT_NO</th>\n",
              "      <th>APP_CODE</th>\n",
              "      <th>REGION</th>\n",
              "      <th>VILLAGE</th>\n",
              "      <th>SUBDISTRICT</th>\n",
              "      <th>DISTRICT</th>\n",
              "      <th>PROVINCE</th>\n",
              "      <th>AP_NAME</th>\n",
              "      <th>IP_ADDRESS</th>\n",
              "      <th>UPLOAD</th>\n",
              "      <th>DOWNLOAD</th>\n",
              "      <th>NUM_USERS</th>\n",
              "      <th>NUM_DEVICES</th>\n",
              "    </tr>\n",
              "    <tr>\n",
              "      <th>ID</th>\n",
              "      <th></th>\n",
              "      <th></th>\n",
              "      <th></th>\n",
              "      <th></th>\n",
              "      <th></th>\n",
              "      <th></th>\n",
              "      <th></th>\n",
              "      <th></th>\n",
              "      <th></th>\n",
              "      <th></th>\n",
              "      <th></th>\n",
              "      <th></th>\n",
              "      <th></th>\n",
              "      <th></th>\n",
              "      <th></th>\n",
              "    </tr>\n",
              "  </thead>\n",
              "  <tbody>\n",
              "    <tr>\n",
              "      <th>1</th>\n",
              "      <td>2564</td>\n",
              "      <td>กรกฎาคม</td>\n",
              "      <td>4485d9000</td>\n",
              "      <td>SR711371</td>\n",
              "      <td>ภ.2</td>\n",
              "      <td>หมู่ 13 บ้านมะเกลือ</td>\n",
              "      <td>บ้านกอก</td>\n",
              "      <td>จัตุรัส</td>\n",
              "      <td>ชัยภูมิ</td>\n",
              "      <td>CPM-SR711371</td>\n",
              "      <td>172.16.140.2</td>\n",
              "      <td>4901.45</td>\n",
              "      <td>86793.12</td>\n",
              "      <td>403.0</td>\n",
              "      <td>57.0</td>\n",
              "    </tr>\n",
              "    <tr>\n",
              "      <th>2</th>\n",
              "      <td>2564</td>\n",
              "      <td>กรกฎาคม</td>\n",
              "      <td>4485d9001</td>\n",
              "      <td>SR711374</td>\n",
              "      <td>ภ.2</td>\n",
              "      <td>หมู่ 17 บ้านโนนทอง</td>\n",
              "      <td>บ้านกอก</td>\n",
              "      <td>จัตุรัส</td>\n",
              "      <td>ชัยภูมิ</td>\n",
              "      <td>CPM-SR711374</td>\n",
              "      <td>172.16.140.10</td>\n",
              "      <td>1609.27</td>\n",
              "      <td>18763.15</td>\n",
              "      <td>364.0</td>\n",
              "      <td>69.0</td>\n",
              "    </tr>\n",
              "    <tr>\n",
              "      <th>3</th>\n",
              "      <td>2564</td>\n",
              "      <td>กรกฎาคม</td>\n",
              "      <td>4486d9000</td>\n",
              "      <td>SR711628</td>\n",
              "      <td>ภ.2</td>\n",
              "      <td>หมู่ 1 เพชร</td>\n",
              "      <td>บ้านเพชร</td>\n",
              "      <td>ภูเขียว</td>\n",
              "      <td>ชัยภูมิ</td>\n",
              "      <td>CPM-SR711628</td>\n",
              "      <td>172.16.140.50</td>\n",
              "      <td>6318.99</td>\n",
              "      <td>91007.66</td>\n",
              "      <td>693.0</td>\n",
              "      <td>182.0</td>\n",
              "    </tr>\n",
              "    <tr>\n",
              "      <th>4</th>\n",
              "      <td>2564</td>\n",
              "      <td>กรกฎาคม</td>\n",
              "      <td>4486d9001</td>\n",
              "      <td>SR711630</td>\n",
              "      <td>ภ.2</td>\n",
              "      <td>หมู่ 8 เพชรใต้</td>\n",
              "      <td>บ้านเพชร</td>\n",
              "      <td>ภูเขียว</td>\n",
              "      <td>ชัยภูมิ</td>\n",
              "      <td>CPM-SR711630</td>\n",
              "      <td>172.16.140.58</td>\n",
              "      <td>2753.82</td>\n",
              "      <td>71735.24</td>\n",
              "      <td>855.0</td>\n",
              "      <td>260.0</td>\n",
              "    </tr>\n",
              "    <tr>\n",
              "      <th>5</th>\n",
              "      <td>2564</td>\n",
              "      <td>กรกฎาคม</td>\n",
              "      <td>4486d9002</td>\n",
              "      <td>SR711631</td>\n",
              "      <td>ภ.2</td>\n",
              "      <td>หมู่ 9 กุดตูม</td>\n",
              "      <td>บ้านเพชร</td>\n",
              "      <td>ภูเขียว</td>\n",
              "      <td>ชัยภูมิ</td>\n",
              "      <td>CPM-SR711631</td>\n",
              "      <td>172.16.140.66</td>\n",
              "      <td>13661.13</td>\n",
              "      <td>259679.82</td>\n",
              "      <td>835.0</td>\n",
              "      <td>54.0</td>\n",
              "    </tr>\n",
              "    <tr>\n",
              "      <th>...</th>\n",
              "      <td>...</td>\n",
              "      <td>...</td>\n",
              "      <td>...</td>\n",
              "      <td>...</td>\n",
              "      <td>...</td>\n",
              "      <td>...</td>\n",
              "      <td>...</td>\n",
              "      <td>...</td>\n",
              "      <td>...</td>\n",
              "      <td>...</td>\n",
              "      <td>...</td>\n",
              "      <td>...</td>\n",
              "      <td>...</td>\n",
              "      <td>...</td>\n",
              "      <td>...</td>\n",
              "    </tr>\n",
              "    <tr>\n",
              "      <th>1136</th>\n",
              "      <td>2564</td>\n",
              "      <td>กรกฎาคม</td>\n",
              "      <td>4481d9096</td>\n",
              "      <td>SR670365</td>\n",
              "      <td>ภ.2</td>\n",
              "      <td>หมู่ 11 ผาทอง</td>\n",
              "      <td>วังทอง</td>\n",
              "      <td>ภักดีชุมพล</td>\n",
              "      <td>ชัยภูมิ</td>\n",
              "      <td>CPM-SR670365</td>\n",
              "      <td>172.16.146.210</td>\n",
              "      <td>4116.62</td>\n",
              "      <td>109246.63</td>\n",
              "      <td>382.0</td>\n",
              "      <td>55.0</td>\n",
              "    </tr>\n",
              "    <tr>\n",
              "      <th>1137</th>\n",
              "      <td>2564</td>\n",
              "      <td>กรกฎาคม</td>\n",
              "      <td>4481d9099</td>\n",
              "      <td>SR670376</td>\n",
              "      <td>ภ.2</td>\n",
              "      <td>หมู่ 5 ดงสวรรค์</td>\n",
              "      <td>แหลมทอง</td>\n",
              "      <td>ภักดีชุมพล</td>\n",
              "      <td>ชัยภูมิ</td>\n",
              "      <td>CPM-SR670376</td>\n",
              "      <td>172.16.146.234</td>\n",
              "      <td>1822.40</td>\n",
              "      <td>35846.53</td>\n",
              "      <td>200.0</td>\n",
              "      <td>45.0</td>\n",
              "    </tr>\n",
              "    <tr>\n",
              "      <th>1138</th>\n",
              "      <td>2564</td>\n",
              "      <td>กรกฎาคม</td>\n",
              "      <td>4481d9100</td>\n",
              "      <td>SR670377</td>\n",
              "      <td>ภ.2</td>\n",
              "      <td>หมู่ 6 วังตะกู</td>\n",
              "      <td>แหลมทอง</td>\n",
              "      <td>ภักดีชุมพล</td>\n",
              "      <td>ชัยภูมิ</td>\n",
              "      <td>CPM-SR670377</td>\n",
              "      <td>172.16.146.242</td>\n",
              "      <td>34020.25</td>\n",
              "      <td>409141.72</td>\n",
              "      <td>3016.0</td>\n",
              "      <td>124.0</td>\n",
              "    </tr>\n",
              "    <tr>\n",
              "      <th>1139</th>\n",
              "      <td>2564</td>\n",
              "      <td>กรกฎาคม</td>\n",
              "      <td>4481d9101</td>\n",
              "      <td>SR670378</td>\n",
              "      <td>ภ.2</td>\n",
              "      <td>หมู่ 7 โนนผักหวาน</td>\n",
              "      <td>แหลมทอง</td>\n",
              "      <td>ภักดีชุมพล</td>\n",
              "      <td>ชัยภูมิ</td>\n",
              "      <td>CPM-SR670378</td>\n",
              "      <td>172.16.146.250</td>\n",
              "      <td>11387.54</td>\n",
              "      <td>259253.78</td>\n",
              "      <td>1113.0</td>\n",
              "      <td>129.0</td>\n",
              "    </tr>\n",
              "    <tr>\n",
              "      <th>1140</th>\n",
              "      <td>2564</td>\n",
              "      <td>กรกฎาคม</td>\n",
              "      <td>4481d9102</td>\n",
              "      <td>SR670379</td>\n",
              "      <td>ภ.2</td>\n",
              "      <td>หมู่ 8 ซับไทรทอง</td>\n",
              "      <td>แหลมทอง</td>\n",
              "      <td>ภักดีชุมพล</td>\n",
              "      <td>ชัยภูมิ</td>\n",
              "      <td>CPM-SR670379</td>\n",
              "      <td>172.16.147.2</td>\n",
              "      <td>13897.22</td>\n",
              "      <td>199862.90</td>\n",
              "      <td>2474.0</td>\n",
              "      <td>106.0</td>\n",
              "    </tr>\n",
              "  </tbody>\n",
              "</table>\n",
              "<p>848 rows × 15 columns</p>\n",
              "</div>"
            ],
            "text/plain": [
              "      YEAR    MONTH CIRCUIT_NO  APP_CODE REGION              VILLAGE  \\\n",
              "ID                                                                     \n",
              "1     2564  กรกฎาคม  4485d9000  SR711371    ภ.2  หมู่ 13 บ้านมะเกลือ   \n",
              "2     2564  กรกฎาคม  4485d9001  SR711374    ภ.2   หมู่ 17 บ้านโนนทอง   \n",
              "3     2564  กรกฎาคม  4486d9000  SR711628    ภ.2          หมู่ 1 เพชร   \n",
              "4     2564  กรกฎาคม  4486d9001  SR711630    ภ.2       หมู่ 8 เพชรใต้   \n",
              "5     2564  กรกฎาคม  4486d9002  SR711631    ภ.2        หมู่ 9 กุดตูม   \n",
              "...    ...      ...        ...       ...    ...                  ...   \n",
              "1136  2564  กรกฎาคม  4481d9096  SR670365    ภ.2        หมู่ 11 ผาทอง   \n",
              "1137  2564  กรกฎาคม  4481d9099  SR670376    ภ.2      หมู่ 5 ดงสวรรค์   \n",
              "1138  2564  กรกฎาคม  4481d9100  SR670377    ภ.2       หมู่ 6 วังตะกู   \n",
              "1139  2564  กรกฎาคม  4481d9101  SR670378    ภ.2    หมู่ 7 โนนผักหวาน   \n",
              "1140  2564  กรกฎาคม  4481d9102  SR670379    ภ.2     หมู่ 8 ซับไทรทอง   \n",
              "\n",
              "     SUBDISTRICT    DISTRICT PROVINCE       AP_NAME      IP_ADDRESS    UPLOAD  \\\n",
              "ID                                                                              \n",
              "1        บ้านกอก     จัตุรัส  ชัยภูมิ  CPM-SR711371    172.16.140.2   4901.45   \n",
              "2        บ้านกอก     จัตุรัส  ชัยภูมิ  CPM-SR711374   172.16.140.10   1609.27   \n",
              "3       บ้านเพชร     ภูเขียว  ชัยภูมิ  CPM-SR711628   172.16.140.50   6318.99   \n",
              "4       บ้านเพชร     ภูเขียว  ชัยภูมิ  CPM-SR711630   172.16.140.58   2753.82   \n",
              "5       บ้านเพชร     ภูเขียว  ชัยภูมิ  CPM-SR711631   172.16.140.66  13661.13   \n",
              "...          ...         ...      ...           ...             ...       ...   \n",
              "1136      วังทอง  ภักดีชุมพล  ชัยภูมิ  CPM-SR670365  172.16.146.210   4116.62   \n",
              "1137     แหลมทอง  ภักดีชุมพล  ชัยภูมิ  CPM-SR670376  172.16.146.234   1822.40   \n",
              "1138     แหลมทอง  ภักดีชุมพล  ชัยภูมิ  CPM-SR670377  172.16.146.242  34020.25   \n",
              "1139     แหลมทอง  ภักดีชุมพล  ชัยภูมิ  CPM-SR670378  172.16.146.250  11387.54   \n",
              "1140     แหลมทอง  ภักดีชุมพล  ชัยภูมิ  CPM-SR670379    172.16.147.2  13897.22   \n",
              "\n",
              "       DOWNLOAD  NUM_USERS  NUM_DEVICES  \n",
              "ID                                       \n",
              "1      86793.12      403.0         57.0  \n",
              "2      18763.15      364.0         69.0  \n",
              "3      91007.66      693.0        182.0  \n",
              "4      71735.24      855.0        260.0  \n",
              "5     259679.82      835.0         54.0  \n",
              "...         ...        ...          ...  \n",
              "1136  109246.63      382.0         55.0  \n",
              "1137   35846.53      200.0         45.0  \n",
              "1138  409141.72     3016.0        124.0  \n",
              "1139  259253.78     1113.0        129.0  \n",
              "1140  199862.90     2474.0        106.0  \n",
              "\n",
              "[848 rows x 15 columns]"
            ]
          },
          "execution_count": 47,
          "metadata": {},
          "output_type": "execute_result"
        }
      ],
      "source": [
        "# list of province name start with 'ช'\n",
        "df[df['PROVINCE'].str.startswith('ช')]['PROVINCE'].unique()\n",
        "# show all data of province name start with 'ช'\n",
        "df[df['PROVINCE'].str.startswith('ช')]\n"
      ]
    },
    {
      "cell_type": "code",
      "execution_count": 58,
      "metadata": {},
      "outputs": [
        {
          "data": {
            "text/plain": [
              "<Axes: title={'center': 'จำนวนผู้ใช้งานอินเทอร์เน็ตในแต่ละจังหวัด'}, xlabel='PROVINCE'>"
            ]
          },
          "execution_count": 58,
          "metadata": {},
          "output_type": "execute_result"
        },
        {
          "data": {
            "image/png": "[encoded data removed]",
            "text/plain": [
              "<Figure size 1000x500 with 1 Axes>"
            ]
          },
          "metadata": {},
          "output_type": "display_data"
        }
      ],
      "source": [
        "df.groupby('PROVINCE')['NUM_USERS'].sum().plot(kind='bar', figsize=(10,5), title='จำนวนผู้ใช้งานอินเทอร์เน็ตในแต่ละจังหวัด')\n"
      ]
    },
    {
      "cell_type": "code",
      "execution_count": 18,
      "metadata": {},
      "outputs": [
        {
          "name": "stderr",
          "output_type": "stream",
          "text": [
            "C:\\Users\\seaza\\AppData\\Local\\Temp\\ipykernel_8740\\706575378.py:2: FutureWarning: Indexing with multiple keys (implicitly converted to a tuple of keys) will be deprecated, use a list instead.\n",
            "  df.groupby('PROVINCE')['UPLOAD','DOWNLOAD'].sum().plot(kind='bar', figsize=(10,5), title='จำนวนการใช้งานอินเทอร์เน็ตในแต่ละจังหวัด')\n"
          ]
        },
        {
          "data": {
            "text/plain": [
              "<Axes: title={'center': 'จำนวนการใช้งานอินเทอร์เน็ตในแต่ละจังหวัด'}, xlabel='PROVINCE'>"
            ]
          },
          "execution_count": 18,
          "metadata": {},
          "output_type": "execute_result"
        },
        {
          "data": {
            "image/png": "[encoded data removed]",
            "text/plain": [
              "<Figure size 1000x500 with 1 Axes>"
            ]
          },
          "metadata": {},
          "output_type": "display_data"
        }
      ],
      "source": [
        "#show the number of usage by sum of upload nad download in each province\n",
        "df.groupby('PROVINCE')['UPLOAD','DOWNLOAD'].sum().plot(kind='bar', figsize=(10,5), title='จำนวนการใช้งานอินเทอร์เน็ตในแต่ละจังหวัด')\n"
      ]
    },
    {
      "cell_type": "code",
      "execution_count": 56,
      "metadata": {},
      "outputs": [
        {
          "data": {
            "text/plain": [
              "<Axes: title={'center': 'จำนวนผู้ใช้งานอินเทอร์เน็ตในจังหวัดชัยภูมิ'}, xlabel='DISTRICT'>"
            ]
          },
          "execution_count": 56,
          "metadata": {},
          "output_type": "execute_result"
        },
        {
          "data": {
            "image/png": "[encoded data removed]",
            "text/plain": [
              "<Figure size 1500x700 with 1 Axes>"
            ]
          },
          "metadata": {},
          "output_type": "display_data"
        }
      ],
      "source": [
        "df[df['PROVINCE'] == 'ชัยภูมิ' ].groupby('DISTRICT')['NUM_USERS'].sum().plot(kind='bar', figsize=(15,7), title='จำนวนผู้ใช้งานอินเทอร์เน็ตในจังหวัดชัยภูมิ')"
      ]
    },
    {
      "cell_type": "code",
      "execution_count": null,
      "metadata": {},
      "outputs": [],
      "source": []
    }
  ],
  "metadata": {
    "colab": {
      "provenance": []
    },
    "kernelspec": {
      "display_name": "Python 3",
      "name": "python3"
    },
    "language_info": {
      "codemirror_mode": {
        "name": "ipython",
        "version": 3
      },
      "file_extension": ".py",
      "mimetype": "text/x-python",
      "name": "python",
      "nbconvert_exporter": "python",
      "pygments_lexer": "ipython3",
      "version": "3.11.1"
    }
  },
  "nbformat": 4,
  "nbformat_minor": 0
}
